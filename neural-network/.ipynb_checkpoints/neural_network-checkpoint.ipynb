{
 "cells": [
  {
   "cell_type": "code",
   "execution_count": 1,
   "metadata": {},
   "outputs": [],
   "source": [
    "import numpy as np"
   ]
  },
  {
   "cell_type": "code",
   "execution_count": 9,
   "metadata": {},
   "outputs": [],
   "source": [
    "import scipy.special"
   ]
  },
  {
   "cell_type": "code",
   "execution_count": 72,
   "metadata": {},
   "outputs": [],
   "source": [
    "class NeuralNetwork:\n",
    "    \n",
    "    \"\"\"Simple but powerful neural network\"\"\"\n",
    "    def __init__(self, inputnodes, hiddennodes, outputnodes, learningrate):\n",
    "        \"\"\"Initilizes the neural network\"\"\"\n",
    "        self.inodes= inputnodes\n",
    "        self.hnodes= hiddennodes\n",
    "        self.onodes= outputnodes\n",
    "        self.lr = learningrate\n",
    "        \"\"\"initialize weights\"\"\"\n",
    "#         self.wih= (np.random.rand(self.hnodes, self.inodes) -0.5)\n",
    "#         self.who= (np.random.rand(self.onodes, self.hnodes) -0.5)\n",
    "        self.__initilize_weights_with_more_sophisticated_approach()\n",
    "        self.activation_function = lambda x : scipy.special.expit(x)      \n",
    "        pass\n",
    "    \n",
    "    def train(self, input_list, target_list):\n",
    "        inputs = np.array(input_list, ndmin= 2).T\n",
    "        targets = np.array(target_list, ndmin= 2).T\n",
    "        \n",
    "        hidden_input = np.dot(self.wih, inputs)\n",
    "        hidden_output = self.activation_function(hidden_input)\n",
    "        \n",
    "        final_input = np.dot(self.who, hidden_output)\n",
    "        final_output = self.activation_function(final_input)\n",
    "        \n",
    "        output_errors = targets - final_output\n",
    "        hidden_errors = np.dot(self.who.T, output_errors)\n",
    "        \n",
    "        self.who = self.lr * np.dot((output_errors * final_output * \n",
    "                                     (1.0 - final_output)), np.transpose(hidden_output))\n",
    "        \n",
    "        self.wih = self.lr * np.dot((hidden_errors * hidden_output *\n",
    "                                    (1.0 - hidden_output)), np.transpose(inputs))\n",
    "        pass\n",
    "    \n",
    "    def query(self, input_list):\n",
    "        \"\"\"Gets an inputs and returns an output from the output nodes\"\"\"\n",
    "        inputs = np.array(input_list,ndmin=2).T\n",
    "        \n",
    "        hidden_input = np.dot(self.wih, inputs)\n",
    "        hidden_output = self.activation_function(hidden_input)\n",
    "        final_input = np.dot(self.who, hidden_output)\n",
    "        final_output = self.activation_function(final_input)\n",
    "        return final_output\n",
    "    \n",
    "    def __initilize_weights_with_more_sophisticated_approach(self):\n",
    "        \"\"\"Initialize weights with a popular method based on normal distribution and std\"\"\"\n",
    "        self.wih = np.random.normal(0.0, pow(self.hnodes,-0.5), (self.hnodes, self.inodes))\n",
    "        self.who = np.random.normal(0.0, pow(self.onodes,-0.5),(self.onodes, self.hnodes))"
   ]
  },
  {
   "cell_type": "code",
   "execution_count": 67,
   "metadata": {},
   "outputs": [],
   "source": [
    "nn = NeuralNetwork(3,3,3,0.3)"
   ]
  },
  {
   "cell_type": "code",
   "execution_count": 68,
   "metadata": {},
   "outputs": [
    {
     "data": {
      "text/plain": [
       "array([[ 0.6732046 ],\n",
       "       [-0.17923584],\n",
       "       [-2.04157656]])"
      ]
     },
     "execution_count": 68,
     "metadata": {},
     "output_type": "execute_result"
    }
   ],
   "source": [
    "nn.train([1.0, 0.5, -1.5],[1.0, 0.5, -1.5])"
   ]
  },
  {
   "cell_type": "code",
   "execution_count": null,
   "metadata": {},
   "outputs": [],
   "source": []
  },
  {
   "cell_type": "code",
   "execution_count": null,
   "metadata": {},
   "outputs": [],
   "source": []
  },
  {
   "cell_type": "code",
   "execution_count": null,
   "metadata": {},
   "outputs": [],
   "source": []
  },
  {
   "cell_type": "code",
   "execution_count": null,
   "metadata": {},
   "outputs": [],
   "source": []
  },
  {
   "cell_type": "code",
   "execution_count": null,
   "metadata": {},
   "outputs": [],
   "source": []
  }
 ],
 "metadata": {
  "kernelspec": {
   "display_name": "Python 3",
   "language": "python",
   "name": "python3"
  },
  "language_info": {
   "codemirror_mode": {
    "name": "ipython",
    "version": 3
   },
   "file_extension": ".py",
   "mimetype": "text/x-python",
   "name": "python",
   "nbconvert_exporter": "python",
   "pygments_lexer": "ipython3",
   "version": "3.6.9"
  }
 },
 "nbformat": 4,
 "nbformat_minor": 4
}

{
 "cells": [
  {
   "cell_type": "code",
   "execution_count": 160,
   "metadata": {},
   "outputs": [],
   "source": [
    "import numpy as np"
   ]
  },
  {
   "cell_type": "code",
   "execution_count": 161,
   "metadata": {},
   "outputs": [],
   "source": [
    "import matplotlib.pyplot"
   ]
  },
  {
   "cell_type": "code",
   "execution_count": 162,
   "metadata": {},
   "outputs": [],
   "source": [
    "%matplotlib inline"
   ]
  },
  {
   "cell_type": "code",
   "execution_count": 163,
   "metadata": {},
   "outputs": [],
   "source": [
    "import scipy.special"
   ]
  },
  {
   "cell_type": "code",
   "execution_count": 183,
   "metadata": {},
   "outputs": [],
   "source": [
    "class NeuralNetwork:\n",
    "    \n",
    "    \"\"\"Simple but powerful neural network\"\"\"\n",
    "    def __init__(self, inputnodes, hiddennodes, outputnodes, learningrate):\n",
    "        \"\"\"Initilizes the neural network\"\"\"\n",
    "        self.inodes= inputnodes\n",
    "        self.hnodes= hiddennodes\n",
    "        self.onodes= outputnodes\n",
    "        \"\"\"initialize weights\"\"\"\n",
    "#         self.wih= (np.random.rand(self.hnodes, self.inodes) -0.5)\n",
    "#         self.who= (np.random.rand(self.onodes, self.hnodes) -0.5)\n",
    "        self.wih = np.random.normal(0.0, pow(self.hnodes,-0.5), (self.hnodes, self.inodes))\n",
    "        self.who = np.random.normal(0.0, pow(self.onodes,-0.5), (self.onodes, self.hnodes))\n",
    "    \n",
    "        self.lr = learningrate    \n",
    "        self.activation_function = lambda x: scipy.special.expit(x)      \n",
    "        pass\n",
    "    \n",
    "    def train(self, input_list, target_list):\n",
    "        \"\"\"Tranins the data and updates the weights\"\"\"\n",
    "        inputs = np.array(input_list, ndmin= 2).T\n",
    "        targets = np.array(target_list, ndmin= 2).T\n",
    "        \n",
    "        hidden_input = np.dot(self.wih, inputs)\n",
    "        hidden_output = self.activation_function(hidden_input)\n",
    "        \n",
    "        final_input = np.dot(self.who, hidden_output)\n",
    "        final_output = self.activation_function(final_input)\n",
    "        \n",
    "        output_errors = targets - final_output\n",
    "        hidden_errors = np.dot(self.who.T, output_errors)\n",
    "        \n",
    "        self.who += self.lr * np.dot((output_errors * final_output * \n",
    "                                     (1.0 - final_output)), np.transpose(hidden_output))        \n",
    "        self.wih += self.lr * np.dot((hidden_errors * hidden_output *\n",
    "                                    (1.0 - hidden_output)), np.transpose(inputs))\n",
    "        pass\n",
    "    \n",
    "    def query(self, input_list):\n",
    "        \"\"\"Gets an inputs and returns an output from the output nodes\"\"\"\n",
    "        inputs = np.array(input_list,ndmin=2).T\n",
    "        \n",
    "        hidden_input = np.dot(self.wih, inputs)\n",
    "        hidden_output = self.activation_function(hidden_input)\n",
    "        final_input = np.dot(self.who, hidden_output)\n",
    "        final_output = self.activation_function(final_input)\n",
    "        return final_output\n",
    "    "
   ]
  },
  {
   "cell_type": "code",
   "execution_count": 184,
   "metadata": {},
   "outputs": [],
   "source": [
    "input_nodes = 784\n",
    "hidden_nodes = 100\n",
    "output_nodes = 10\n",
    "learning_rate = 0.3"
   ]
  },
  {
   "cell_type": "code",
   "execution_count": 185,
   "metadata": {},
   "outputs": [],
   "source": [
    "n = NeuralNetwork(input_nodes, hidden_nodes, output_nodes, learning_rate)"
   ]
  },
  {
   "cell_type": "code",
   "execution_count": 186,
   "metadata": {},
   "outputs": [],
   "source": [
    "training_data_file = open('mnist_dataset/mnist_train_100.csv','r')"
   ]
  },
  {
   "cell_type": "code",
   "execution_count": 187,
   "metadata": {},
   "outputs": [],
   "source": [
    "training_data_list = training_data_file.readlines()"
   ]
  },
  {
   "cell_type": "code",
   "execution_count": 188,
   "metadata": {},
   "outputs": [],
   "source": [
    "data_file.close()"
   ]
  },
  {
   "cell_type": "code",
   "execution_count": 189,
   "metadata": {},
   "outputs": [],
   "source": [
    "for record in training_data_list:\n",
    "    all_values = record.split(',')\n",
    "    inputs = (np.asfarray(all_values[1:]) / 255 * 0.99) + 0.01\n",
    "    target = np.zeros(output_nodes) + 0.0\n",
    "    target[int(all_values[0])] =  0.99 #experiment: set int(record[0]) i think it gotta be firt letter of string\n",
    "    n.train(inputs, target)\n",
    "    pass"
   ]
  },
  {
   "cell_type": "code",
   "execution_count": null,
   "metadata": {},
   "outputs": [],
   "source": []
  },
  {
   "cell_type": "code",
   "execution_count": 190,
   "metadata": {},
   "outputs": [],
   "source": [
    "test_data_file = open('mnist_dataset/mnist_test_10.csv', 'r')"
   ]
  },
  {
   "cell_type": "code",
   "execution_count": 191,
   "metadata": {},
   "outputs": [],
   "source": [
    "test_data_list = test_data_file.readlines()"
   ]
  },
  {
   "cell_type": "code",
   "execution_count": 192,
   "metadata": {},
   "outputs": [],
   "source": [
    "test_data_file.close()"
   ]
  },
  {
   "cell_type": "code",
   "execution_count": 218,
   "metadata": {},
   "outputs": [
    {
     "name": "stdout",
     "output_type": "stream",
     "text": [
      "7\n"
     ]
    },
    {
     "data": {
      "image/png": "[encoded data removed]",
      "text/plain": [
       "<Figure size 432x288 with 1 Axes>"
      ]
     },
     "metadata": {
      "needs_background": "light"
     },
     "output_type": "display_data"
    }
   ],
   "source": [
    "all_values = test_data_list[0].split(',')\n",
    "image_array = np.asfarray(all_values[1:]).reshape((28,28))\n",
    "matplotlib.pyplot.imshow(image_array, cmap= 'Greys', interpolation= None)\n",
    "print(all_values[0])"
   ]
  },
  {
   "cell_type": "code",
   "execution_count": 220,
   "metadata": {},
   "outputs": [],
   "source": [
    "scorecard = []"
   ]
  },
  {
   "cell_type": "code",
   "execution_count": null,
   "metadata": {},
   "outputs": [],
   "source": [
    "for record in test_data_list:\n",
    "    all_values = record.split(',')\n",
    "    "
   ]
  },
  {
   "cell_type": "code",
   "execution_count": null,
   "metadata": {},
   "outputs": [],
   "source": []
  }
 ],
 "metadata": {
  "kernelspec": {
   "display_name": "Python 3",
   "language": "python",
   "name": "python3"
  },
  "language_info": {
   "codemirror_mode": {
    "name": "ipython",
    "version": 3
   },
   "file_extension": ".py",
   "mimetype": "text/x-python",
   "name": "python",
   "nbconvert_exporter": "python",
   "pygments_lexer": "ipython3",
   "version": "3.6.9"
  }
 },
 "nbformat": 4,
 "nbformat_minor": 4
}

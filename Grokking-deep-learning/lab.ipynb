{
 "cells": [
  {
   "cell_type": "code",
   "execution_count": 1,
   "metadata": {},
   "outputs": [],
   "source": [
    "import numpy as np"
   ]
  },
  {
   "cell_type": "code",
   "execution_count": 4,
   "metadata": {
    "tags": []
   },
   "outputs": [],
   "source": [
    "# import numpy as np\n",
    "# # toes % win # fans\n",
    "# ih_wgt = np.array([\n",
    "#     [0.1, 0.2, -0.1], # hid[0]\n",
    "#     [-0.1,0.1, 0.9], # hid[1]\n",
    "#     [0.1, 0.4, 0.1]]).T # hid[2]\n",
    "#     # hid[0] hid[1] hid[2]\n",
    "\n",
    "# hp_wgt = np.array([\n",
    "#     [0.3, 1.1, -0.3], # hurt?\n",
    "#     [0.1, 0.2, 0.0], # win?\n",
    "#     [0.0, 1.3, 0.1] ]).T # sad?# toes % win # fans\n",
    "\n",
    "# weights = [ih_wgt, hp_wgt]"
   ]
  },
  {
   "cell_type": "code",
   "execution_count": 20,
   "metadata": {},
   "outputs": [],
   "source": [
    "weight = 0.1\n",
    "lr = 0.01\n",
    "\n",
    "def neural_network(input, weight):\n",
    "    return input * weight"
   ]
  },
  {
   "cell_type": "code",
   "execution_count": 3,
   "metadata": {},
   "outputs": [],
   "source": [
    "# def neural_network(input, weights):\n",
    "#     hid = np.dot(input, weights[0])\n",
    "#     pred = np.dot(hid, weights[1])\n",
    "#     return pred"
   ]
  },
  {
   "cell_type": "code",
   "execution_count": 7,
   "metadata": {
    "tags": []
   },
   "outputs": [],
   "source": [
    "# input =  np.array([\n",
    "#     [8.5, 9.5, 9.9, 9.0], # toes\n",
    "#     [0.65,0.8, 0.8, 0.9], # wlrec\n",
    "#     [1.2, 1.3, 0.5, 1.0]  # fans\n",
    "# ])\n",
    "\n",
    "# first_input = input[:,:1].reshape(1,3)\n",
    "# pred = neural_network(first_input, weights)\n",
    "# print(pred)"
   ]
  },
  {
   "cell_type": "code",
   "execution_count": 8,
   "metadata": {
    "tags": []
   },
   "outputs": [],
   "source": [
    "# knob_weight = 0.5\n",
    "# input = 0.5\n",
    "# goal_pred = 0.8\n",
    "# pred = input * knob_weight\n",
    "# error = (pred - goal_pred) ** 2\n",
    "# print(error)"
   ]
  },
  {
   "cell_type": "code",
   "execution_count": 21,
   "metadata": {
    "tags": []
   },
   "outputs": [
    {
     "output_type": "stream",
     "name": "stdout",
     "text": "0.022499999999999975\n0.004224999999999993\n0.05522499999999994\nFinal weight:  0.11  and final error is :  0.004224999999999993\n"
    }
   ],
   "source": [
    "number_of_toes = [8.5]\n",
    "win_or_lose_binary = [1]\n",
    "\n",
    "input = number_of_toes[0]\n",
    "true = win_or_lose_binary[0]\n",
    "\n",
    "pred = neural_network(input, weight)\n",
    "error = (pred - true) ** 2\n",
    "print(error)\n",
    "\n",
    "up_pred = neural_network(input, weight+lr)\n",
    "up_error = (up_pred - true) ** 2\n",
    "print(up_error)\n",
    "\n",
    "down_pred = neural_network(input, weight-lr)\n",
    "down_error = (down_pred - true) ** 2\n",
    "print(down_error)\n",
    "\n",
    "if up_error < error:\n",
    "    weight += lr\n",
    "    error = up_error\n",
    "elif down_error < error:\n",
    "    weight -= lr\n",
    "    error = down_error\n",
    "print(\"Final weight: \", weight, ' and final error is : ', error)    "
   ]
  },
  {
   "cell_type": "code",
   "execution_count": null,
   "metadata": {},
   "outputs": [],
   "source": []
  },
  {
   "cell_type": "code",
   "execution_count": null,
   "metadata": {},
   "outputs": [],
   "source": []
  },
  {
   "cell_type": "code",
   "execution_count": null,
   "metadata": {},
   "outputs": [],
   "source": []
  }
 ],
 "metadata": {
  "kernelspec": {
   "display_name": "Python 3",
   "language": "python",
   "name": "python3"
  },
  "language_info": {
   "codemirror_mode": {
    "name": "ipython",
    "version": 3
   },
   "file_extension": ".py",
   "mimetype": "text/x-python",
   "name": "python",
   "nbconvert_exporter": "python",
   "pygments_lexer": "ipython3",
   "version": "3.6.9-final"
  }
 },
 "nbformat": 4,
 "nbformat_minor": 4
}